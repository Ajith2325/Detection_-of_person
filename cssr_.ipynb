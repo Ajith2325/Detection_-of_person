{
 "cells": [
  {
   "cell_type": "code",
   "execution_count": 1,
   "id": "95a6b887-7bb5-4b04-8a08-1c9cc2b53e8c",
   "metadata": {},
   "outputs": [
    {
     "name": "stdout",
     "output_type": "stream",
     "text": [
      "Not an Human\n"
     ]
    },
    {
     "name": "stderr",
     "output_type": "stream",
     "text": [
      "WARNING: All log messages before absl::InitializeLog() is called are written to STDERR\n",
      "I0000 00:00:1729978238.357747 14562974 gl_context.cc:357] GL version: 2.1 (2.1 Metal - 89.3), renderer: Apple M1\n",
      "INFO: Created TensorFlow Lite XNNPACK delegate for CPU.\n",
      "W0000 00:00:1729978238.465022 14563081 inference_feedback_manager.cc:114] Feedback manager requires a model with a single signature inference. Disabling support for feedback tensors.\n",
      "W0000 00:00:1729978238.487468 14563081 inference_feedback_manager.cc:114] Feedback manager requires a model with a single signature inference. Disabling support for feedback tensors.\n"
     ]
    }
   ],
   "source": [
    "import cv2\n",
    "import mediapipe as mp\n",
    "\n",
    "# Initialize MediaPipe Pose and Drawing modules\n",
    "mp_pose = mp.solutions.pose\n",
    "mp_drawing = mp.solutions.drawing_utils\n",
    "\n",
    "# Load the image\n",
    "image_path = '/Users/kcharith/Downloads/images.jpeg'  # Replace with your image path\n",
    "image = cv2.imread(image_path)\n",
    "\n",
    "# Convert the image to RGB\n",
    "image_rgb = cv2.cvtColor(image, cv2.COLOR_BGR2RGB)\n",
    "\n",
    "# Initialize Pose model\n",
    "with mp_pose.Pose(static_image_mode=True, min_detection_confidence=0.8) as pose:\n",
    "    # Perform pose detection\n",
    "    results = pose.process(image_rgb)\n",
    "\n",
    "    # Check if any landmarks are detected\n",
    "    if results.pose_landmarks:\n",
    "        # Draw pose landmarks on the image\n",
    "        mp_drawing.draw_landmarks(\n",
    "            image,\n",
    "            results.pose_landmarks,\n",
    "            mp_pose.POSE_CONNECTIONS,\n",
    "            mp_drawing.DrawingSpec(color=(0, 255, 0), thickness=2, circle_radius=2),\n",
    "            mp_drawing.DrawingSpec(color=(0, 0, 255), thickness=2)\n",
    "        )\n",
    "\n",
    "        # Show the output image with detected pose landmarks\n",
    "        cv2.imshow(\"Pose Detection\", image)\n",
    "        cv2.waitKey(0)\n",
    "    else:\n",
    "        print(\"Not an Human\")\n",
    "\n",
    "# Clean up\n",
    "cv2.destroyAllWindows()\n"
   ]
  },
  {
   "cell_type": "code",
   "execution_count": null,
   "id": "1ba14f17-73ba-4450-a482-962f6c505355",
   "metadata": {},
   "outputs": [
    {
     "name": "stderr",
     "output_type": "stream",
     "text": [
      "I0000 00:00:1729978255.695593 14562974 gl_context.cc:357] GL version: 2.1 (2.1 Metal - 89.3), renderer: Apple M1\n",
      "W0000 00:00:1729978255.781779 14563268 inference_feedback_manager.cc:114] Feedback manager requires a model with a single signature inference. Disabling support for feedback tensors.\n",
      "W0000 00:00:1729978255.801731 14563271 inference_feedback_manager.cc:114] Feedback manager requires a model with a single signature inference. Disabling support for feedback tensors.\n",
      "W0000 00:00:1729978255.828194 14563270 landmark_projection_calculator.cc:186] Using NORM_RECT without IMAGE_DIMENSIONS is only supported for the square ROI. Provide IMAGE_DIMENSIONS or use PROJECTION_MATRIX.\n",
      "/Users/kcharith/Desktop/anaconda3/lib/python3.12/site-packages/google/protobuf/symbol_database.py:55: UserWarning: SymbolDatabase.GetPrototype() is deprecated. Please use message_factory.GetMessageClass() instead. SymbolDatabase.GetPrototype() will be removed soon.\n",
      "  warnings.warn('SymbolDatabase.GetPrototype() is deprecated. Please '\n",
      "2024-10-27 03:00:56.247 python[49765:14562974] +[IMKClient subclass]: chose IMKClient_Modern\n",
      "2024-10-27 03:00:56.247 python[49765:14562974] +[IMKInputSession subclass]: chose IMKInputSession_Modern\n"
     ]
    }
   ],
   "source": [
    "import cv2\n",
    "import mediapipe as mp\n",
    "\n",
    "# Initialize MediaPipe Pose and Drawing modules\n",
    "mp_pose = mp.solutions.pose\n",
    "mp_drawing = mp.solutions.drawing_utils\n",
    "\n",
    "# Load the image\n",
    "image_path = '/Users/kcharith/Downloads/232100455.jpg'  # Replace with your image path\n",
    "image = cv2.imread(image_path)\n",
    "\n",
    "# Convert the image to RGB\n",
    "image_rgb = cv2.cvtColor(image, cv2.COLOR_BGR2RGB)\n",
    "\n",
    "# Initialize Pose model\n",
    "with mp_pose.Pose(static_image_mode=True, min_detection_confidence=0.8) as pose:\n",
    "    # Perform pose detection\n",
    "    results = pose.process(image_rgb)\n",
    "\n",
    "    # Check if any landmarks are detected\n",
    "    if results.pose_landmarks:\n",
    "        # Draw pose landmarks on the image\n",
    "        mp_drawing.draw_landmarks(\n",
    "            image,\n",
    "            results.pose_landmarks,\n",
    "            mp_pose.POSE_CONNECTIONS,\n",
    "            mp_drawing.DrawingSpec(color=(0, 255, 0), thickness=2, circle_radius=2),\n",
    "            mp_drawing.DrawingSpec(color=(0, 0, 255), thickness=2)\n",
    "        )\n",
    "\n",
    "        # Show the output image with detected pose landmarks\n",
    "        cv2.imshow(\"Pose Detection\", image)\n",
    "        cv2.waitKey(0)\n",
    "    else:\n",
    "        print(\"Not an Human\")\n",
    "\n",
    "# Clean up\n",
    "cv2.destroyAllWindows()\n"
   ]
  },
  {
   "cell_type": "code",
   "execution_count": null,
   "id": "86931695-6008-4d8c-8672-deb348b89cb2",
   "metadata": {},
   "outputs": [],
   "source": []
  }
 ],
 "metadata": {
  "kernelspec": {
   "display_name": "Python 3 (ipykernel)",
   "language": "python",
   "name": "python3"
  },
  "language_info": {
   "codemirror_mode": {
    "name": "ipython",
    "version": 3
   },
   "file_extension": ".py",
   "mimetype": "text/x-python",
   "name": "python",
   "nbconvert_exporter": "python",
   "pygments_lexer": "ipython3",
   "version": "3.12.4"
  }
 },
 "nbformat": 4,
 "nbformat_minor": 5
}
